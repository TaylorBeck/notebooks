{
 "cells": [
  {
   "cell_type": "code",
   "execution_count": 13,
   "id": "773a0dd2-da14-4915-bdd8-c45306cb60ba",
   "metadata": {},
   "outputs": [
    {
     "name": "stdout",
     "output_type": "stream",
     "text": [
      "Collecting matplotlib\n",
      "  Downloading matplotlib-3.10.5-cp312-cp312-macosx_11_0_arm64.whl.metadata (11 kB)\n",
      "Collecting contourpy>=1.0.1 (from matplotlib)\n",
      "  Downloading contourpy-1.3.3-cp312-cp312-macosx_11_0_arm64.whl.metadata (5.5 kB)\n",
      "Collecting cycler>=0.10 (from matplotlib)\n",
      "  Downloading cycler-0.12.1-py3-none-any.whl.metadata (3.8 kB)\n",
      "Collecting fonttools>=4.22.0 (from matplotlib)\n",
      "  Downloading fonttools-4.59.0-cp312-cp312-macosx_10_13_universal2.whl.metadata (107 kB)\n",
      "\u001b[2K     \u001b[38;2;114;156;31m━━━━━━━━━━━━━━━━━━━━━━━━━━━━━━━━━━━━━\u001b[0m \u001b[32m107.9/107.9 kB\u001b[0m \u001b[31m508.1 kB/s\u001b[0m eta \u001b[36m0:00:00\u001b[0m kB/s\u001b[0m eta \u001b[36m0:00:01\u001b[0m:01\u001b[0m\n",
      "\u001b[?25hCollecting kiwisolver>=1.3.1 (from matplotlib)\n",
      "  Downloading kiwisolver-1.4.8-cp312-cp312-macosx_11_0_arm64.whl.metadata (6.2 kB)\n",
      "Requirement already satisfied: numpy>=1.23 in /Users/taylorbeck/miniconda3/lib/python3.12/site-packages (from matplotlib) (1.26.4)\n",
      "Requirement already satisfied: packaging>=20.0 in /Users/taylorbeck/miniconda3/lib/python3.12/site-packages (from matplotlib) (24.1)\n",
      "Requirement already satisfied: pillow>=8 in /Users/taylorbeck/miniconda3/lib/python3.12/site-packages (from matplotlib) (11.1.0)\n",
      "Requirement already satisfied: pyparsing>=2.3.1 in /Users/taylorbeck/miniconda3/lib/python3.12/site-packages (from matplotlib) (3.2.3)\n",
      "Requirement already satisfied: python-dateutil>=2.7 in /Users/taylorbeck/miniconda3/lib/python3.12/site-packages (from matplotlib) (2.9.0.post0)\n",
      "Requirement already satisfied: six>=1.5 in /Users/taylorbeck/miniconda3/lib/python3.12/site-packages (from python-dateutil>=2.7->matplotlib) (1.16.0)\n",
      "Downloading matplotlib-3.10.5-cp312-cp312-macosx_11_0_arm64.whl (8.1 MB)\n",
      "\u001b[2K   \u001b[38;2;114;156;31m━━━━━━━━━━━━━━━━━━━━━━━━━━━━━━━━━━━━━━━━\u001b[0m \u001b[32m8.1/8.1 MB\u001b[0m \u001b[31m1.7 MB/s\u001b[0m eta \u001b[36m0:00:00\u001b[0mm eta \u001b[36m0:00:01\u001b[0m[36m0:00:01\u001b[0m\n",
      "\u001b[?25hDownloading contourpy-1.3.3-cp312-cp312-macosx_11_0_arm64.whl (273 kB)\n",
      "\u001b[2K   \u001b[38;2;114;156;31m━━━━━━━━━━━━━━━━━━━━━━━━━━━━━━━━━━━━━━━\u001b[0m \u001b[32m274.0/274.0 kB\u001b[0m \u001b[31m698.1 kB/s\u001b[0m eta \u001b[36m0:00:00\u001b[0m kB/s\u001b[0m eta \u001b[36m0:00:01\u001b[0m:01\u001b[0m\n",
      "\u001b[?25hDownloading cycler-0.12.1-py3-none-any.whl (8.3 kB)\n",
      "Downloading fonttools-4.59.0-cp312-cp312-macosx_10_13_universal2.whl (2.8 MB)\n",
      "\u001b[2K   \u001b[38;2;114;156;31m━━━━━━━━━━━━━━━━━━━━━━━━━━━━━━━━━━━━━━━━\u001b[0m \u001b[32m2.8/2.8 MB\u001b[0m \u001b[31m662.5 kB/s\u001b[0m eta \u001b[36m0:00:00\u001b[0mm eta \u001b[36m0:00:01\u001b[0m[36m0:00:01\u001b[0m\n",
      "\u001b[?25hDownloading kiwisolver-1.4.8-cp312-cp312-macosx_11_0_arm64.whl (65 kB)\n",
      "\u001b[2K   \u001b[38;2;114;156;31m━━━━━━━━━━━━━━━━━━━━━━━━━━━━━━━━━━━━━━━━\u001b[0m \u001b[32m65.1/65.1 kB\u001b[0m \u001b[31m1.2 MB/s\u001b[0m eta \u001b[36m0:00:00\u001b[0m[31m3.5 MB/s\u001b[0m eta \u001b[36m0:00:01\u001b[0m\n",
      "\u001b[?25hInstalling collected packages: kiwisolver, fonttools, cycler, contourpy, matplotlib\n",
      "Successfully installed contourpy-1.3.3 cycler-0.12.1 fonttools-4.59.0 kiwisolver-1.4.8 matplotlib-3.10.5\n"
     ]
    },
    {
     "name": "stderr",
     "output_type": "stream",
     "text": [
      "Matplotlib is building the font cache; this may take a moment.\n"
     ]
    }
   ],
   "source": [
    "!pip install matplotlib\n",
    "\n",
    "import math\n",
    "import numpy as np\n",
    "import matplotlib.pyplot as plt\n",
    "%matplotlib inline"
   ]
  },
  {
   "cell_type": "code",
   "execution_count": 14,
   "id": "34961606-6345-43c0-9f51-60394a862462",
   "metadata": {},
   "outputs": [],
   "source": [
    "def f(x):\n",
    "    return 3*x**2 - 4*x + 5"
   ]
  },
  {
   "cell_type": "code",
   "execution_count": 15,
   "id": "8659a533-ce7b-44d5-adf5-97f46aca3c2b",
   "metadata": {},
   "outputs": [
    {
     "data": {
      "text/plain": [
       "20.0"
      ]
     },
     "execution_count": 15,
     "metadata": {},
     "output_type": "execute_result"
    }
   ],
   "source": [
    "f(3.0)"
   ]
  },
  {
   "cell_type": "code",
   "execution_count": 18,
   "id": "83ec0492-d64e-44f2-a5ca-894a0425f3fd",
   "metadata": {
    "scrolled": true
   },
   "outputs": [
    {
     "data": {
      "text/plain": [
       "array([100.    ,  91.6875,  83.75  ,  76.1875,  69.    ,  62.1875,\n",
       "        55.75  ,  49.6875,  44.    ,  38.6875,  33.75  ,  29.1875,\n",
       "        25.    ,  21.1875,  17.75  ,  14.6875,  12.    ,   9.6875,\n",
       "         7.75  ,   6.1875,   5.    ,   4.1875,   3.75  ,   3.6875,\n",
       "         4.    ,   4.6875,   5.75  ,   7.1875,   9.    ,  11.1875,\n",
       "        13.75  ,  16.6875,  20.    ,  23.6875,  27.75  ,  32.1875,\n",
       "        37.    ,  42.1875,  47.75  ,  53.6875])"
      ]
     },
     "execution_count": 18,
     "metadata": {},
     "output_type": "execute_result"
    }
   ],
   "source": [
    "xs = np.arange(-5, 5, 0.25)\n",
    "ys = f(xs)\n",
    "ys"
   ]
  },
  {
   "cell_type": "code",
   "execution_count": 22,
   "id": "51d84c86-8eb3-46b0-bfb0-0cb44a45f86a",
   "metadata": {},
   "outputs": [
    {
     "data": {
      "text/plain": [
       "2.999378523327323e-06"
      ]
     },
     "execution_count": 22,
     "metadata": {},
     "output_type": "execute_result"
    }
   ],
   "source": [
    "h = 0.000001\n",
    "x = 2/3\n",
    "# f(x + h)\n",
    "(f(x + h) - f(x))/h"
   ]
  },
  {
   "cell_type": "code",
   "execution_count": 24,
   "id": "7104b64b-dea4-4432-8b9d-6a7eb8db3c6f",
   "metadata": {},
   "outputs": [
    {
     "name": "stdout",
     "output_type": "stream",
     "text": [
      "4.0\n"
     ]
    }
   ],
   "source": [
    "a = 2.0\n",
    "b = -3.0\n",
    "c = 10\n",
    "d = a*b + c\n",
    "print(d)"
   ]
  },
  {
   "cell_type": "code",
   "execution_count": 28,
   "id": "781830bd-a9e3-4efe-8712-d63fe93baff9",
   "metadata": {
    "scrolled": true
   },
   "outputs": [
    {
     "name": "stdout",
     "output_type": "stream",
     "text": [
      "d1 4.0\n",
      "d2 4.0001\n",
      "slope 0.9999999999976694\n"
     ]
    }
   ],
   "source": [
    "h = 0.0001\n",
    "#inputs\n",
    "a = 2.0\n",
    "b = -3.0\n",
    "c = 10.0\n",
    "\n",
    "d1 = a*b + c\n",
    "c += h\n",
    "d2 = a*b + c\n",
    "\n",
    "print('d1', d1)\n",
    "print('d2', d2)\n",
    "print('slope', (d2 - d1)/h)"
   ]
  },
  {
   "cell_type": "code",
   "execution_count": 89,
   "id": "31202a71-2c0e-4dfb-948e-965a2d0a39ba",
   "metadata": {},
   "outputs": [
    {
     "data": {
      "text/plain": [
       "Value(data=4.0)"
      ]
     },
     "execution_count": 89,
     "metadata": {},
     "output_type": "execute_result"
    }
   ],
   "source": [
    "class Value:\n",
    "\n",
    "    def __init__(self, data, _children=(), _op='', label=''):\n",
    "        self.data = data\n",
    "        self.grad = 0.0\n",
    "        self._prev = set(_children)\n",
    "        self._op = _op\n",
    "        self.label = label\n",
    "\n",
    "    def __repr__(self):\n",
    "        return f\"Value(data={self.data})\"\n",
    "\n",
    "    def __add__(self, other):\n",
    "        out = Value(self.data + other.data, (self, other), '+')\n",
    "        return out\n",
    "\n",
    "    def __sub__(self, other):\n",
    "        out = Value(self.data - other.data, (self, other), '-')\n",
    "        return out\n",
    "\n",
    "    def __mul__(self, other):\n",
    "        out = Value(self.data * other.data, (self, other), '*')\n",
    "        return out\n",
    "\n",
    "    def __truediv__(self, other):\n",
    "        out = Value(self.data / other.data, (self, other), '/')\n",
    "        return out\n",
    "\n",
    "\n",
    "a = Value(2.0, label='a')\n",
    "b = Value(-3.0, label='b')\n",
    "c = Value(10.0, label='c')\n",
    "e = a*b; e.label = 'e'\n",
    "d = e + c; d.label = 'd'\n",
    "\n",
    "f = Value(-2.0, label='f')\n",
    "L = d * f; L.label= 'L'\n",
    "d"
   ]
  },
  {
   "cell_type": "code",
   "execution_count": 50,
   "id": "0a67114c-aec2-4ea3-ae34-1738076d08ec",
   "metadata": {},
   "outputs": [
    {
     "name": "stdout",
     "output_type": "stream",
     "text": [
      "Collecting graphviz\n",
      "  Downloading graphviz-0.21-py3-none-any.whl.metadata (12 kB)\n",
      "Downloading graphviz-0.21-py3-none-any.whl (47 kB)\n",
      "\u001b[2K   \u001b[38;2;114;156;31m━━━━━━━━━━━━━━━━━━━━━━━━━━━━━━━━━━━━━━━━\u001b[0m \u001b[32m47.3/47.3 kB\u001b[0m \u001b[31m1.3 MB/s\u001b[0m eta \u001b[36m0:00:00\u001b[0m\n",
      "\u001b[?25hInstalling collected packages: graphviz\n",
      "Successfully installed graphviz-0.21\n"
     ]
    }
   ],
   "source": [
    "!pip install graphviz"
   ]
  },
  {
   "cell_type": "code",
   "execution_count": 93,
   "id": "d1cfa230-96d0-494e-bcda-9a6d1e312053",
   "metadata": {},
   "outputs": [],
   "source": [
    "from graphviz import Digraph\n",
    "\n",
    "def trace(root):\n",
    "    # Builds a set of all nodes and edges in a graph\n",
    "    nodes, edges = set(), set()\n",
    "    def build(v):\n",
    "        if v not in nodes:\n",
    "            nodes.add(v)\n",
    "            for child in v._prev:\n",
    "                edges.add((child, v))\n",
    "                build(child)\n",
    "    build(root)\n",
    "    return nodes, edges\n",
    "\n",
    "def draw_dot(root):\n",
    "    dot = Digraph(format='svg', graph_attr={'rankdir': 'LR'}) # LR = Left to Right\n",
    "\n",
    "    nodes, edges = trace(root)\n",
    "    for n in nodes:\n",
    "        uid = str(id(n))\n",
    "        # For any value in the graph, create a rectangular ('record') node for it\n",
    "        dot.node(name = uid, label = \"{ %s | data %.4f | grad %.4f }\" % (n.label, n.data, n.grad), shape='record')\n",
    "        if n._op:\n",
    "            # If this value is a result of some operation, create an op node for it\n",
    "            dot.node(name = uid + n._op, label = n._op)\n",
    "            # and connect this node to it\n",
    "            dot.edge(uid + n._op, uid)\n",
    "\n",
    "    for n1, n2 in edges:\n",
    "        # Connect n1 to the op node of n2\n",
    "        dot.edge(str(id(n1)), str(id(n2)) + n2._op)\n",
    "\n",
    "    return dot"
   ]
  },
  {
   "cell_type": "code",
   "execution_count": 126,
   "id": "59a7797b-237f-46b3-8785-2131014329bf",
   "metadata": {},
   "outputs": [
    {
     "data": {
      "image/svg+xml": [
       "<?xml version=\"1.0\" encoding=\"UTF-8\" standalone=\"no\"?>\n",
       "<!DOCTYPE svg PUBLIC \"-//W3C//DTD SVG 1.1//EN\"\n",
       " \"http://www.w3.org/Graphics/SVG/1.1/DTD/svg11.dtd\">\n",
       "<!-- Generated by graphviz version 12.2.1 (20241206.2353)\n",
       " -->\n",
       "<!-- Pages: 1 -->\n",
       "<svg width=\"1138pt\" height=\"154pt\"\n",
       " viewBox=\"0.00 0.00 1137.50 154.00\" xmlns=\"http://www.w3.org/2000/svg\" xmlns:xlink=\"http://www.w3.org/1999/xlink\">\n",
       "<g id=\"graph0\" class=\"graph\" transform=\"scale(1 1) rotate(0) translate(4 150)\">\n",
       "<polygon fill=\"white\" stroke=\"none\" points=\"-4,4 -4,-150 1133.5,-150 1133.5,4 -4,4\"/>\n",
       "<!-- 5410018304 -->\n",
       "<g id=\"node1\" class=\"node\">\n",
       "<title>5410018304</title>\n",
       "<polygon fill=\"none\" stroke=\"black\" points=\"632.25,-109.5 632.25,-145.5 818.25,-145.5 818.25,-109.5 632.25,-109.5\"/>\n",
       "<text text-anchor=\"middle\" x=\"642.5\" y=\"-122.7\" font-family=\"Times,serif\" font-size=\"14.00\">f</text>\n",
       "<polyline fill=\"none\" stroke=\"black\" points=\"652.75,-110 652.75,-145.5\"/>\n",
       "<text text-anchor=\"middle\" x=\"694.88\" y=\"-122.7\" font-family=\"Times,serif\" font-size=\"14.00\">data &#45;2.0200</text>\n",
       "<polyline fill=\"none\" stroke=\"black\" points=\"737,-110 737,-145.5\"/>\n",
       "<text text-anchor=\"middle\" x=\"777.62\" y=\"-122.7\" font-family=\"Times,serif\" font-size=\"14.00\">grad 4.0000</text>\n",
       "</g>\n",
       "<!-- 5409027568* -->\n",
       "<g id=\"node10\" class=\"node\">\n",
       "<title>5409027568*</title>\n",
       "<ellipse fill=\"none\" stroke=\"black\" cx=\"881.25\" cy=\"-99.5\" rx=\"27\" ry=\"18\"/>\n",
       "<text text-anchor=\"middle\" x=\"881.25\" y=\"-94.45\" font-family=\"Times,serif\" font-size=\"14.00\">*</text>\n",
       "</g>\n",
       "<!-- 5410018304&#45;&gt;5409027568* -->\n",
       "<g id=\"edge9\" class=\"edge\">\n",
       "<title>5410018304&#45;&gt;5409027568*</title>\n",
       "<path fill=\"none\" stroke=\"black\" d=\"M818.5,-110.73C827.35,-109.12 835.92,-107.56 843.71,-106.14\"/>\n",
       "<polygon fill=\"black\" stroke=\"black\" points=\"844.18,-109.62 853.4,-104.38 842.93,-102.73 844.18,-109.62\"/>\n",
       "</g>\n",
       "<!-- 5410020368 -->\n",
       "<g id=\"node2\" class=\"node\">\n",
       "<title>5410020368</title>\n",
       "<polygon fill=\"none\" stroke=\"black\" points=\"4.88,-55.5 4.88,-91.5 187.88,-91.5 187.88,-55.5 4.88,-55.5\"/>\n",
       "<text text-anchor=\"middle\" x=\"15.88\" y=\"-68.7\" font-family=\"Times,serif\" font-size=\"14.00\">a</text>\n",
       "<polyline fill=\"none\" stroke=\"black\" points=\"26.88,-56 26.88,-91.5\"/>\n",
       "<text text-anchor=\"middle\" x=\"66.75\" y=\"-68.7\" font-family=\"Times,serif\" font-size=\"14.00\">data 2.0600</text>\n",
       "<polyline fill=\"none\" stroke=\"black\" points=\"106.62,-56 106.62,-91.5\"/>\n",
       "<text text-anchor=\"middle\" x=\"147.25\" y=\"-68.7\" font-family=\"Times,serif\" font-size=\"14.00\">grad 6.0000</text>\n",
       "</g>\n",
       "<!-- 5409029008* -->\n",
       "<g id=\"node8\" class=\"node\">\n",
       "<title>5409029008*</title>\n",
       "<ellipse fill=\"none\" stroke=\"black\" cx=\"255.75\" cy=\"-45.5\" rx=\"27\" ry=\"18\"/>\n",
       "<text text-anchor=\"middle\" x=\"255.75\" y=\"-40.45\" font-family=\"Times,serif\" font-size=\"14.00\">*</text>\n",
       "</g>\n",
       "<!-- 5410020368&#45;&gt;5409029008* -->\n",
       "<g id=\"edge8\" class=\"edge\">\n",
       "<title>5410020368&#45;&gt;5409029008*</title>\n",
       "<path fill=\"none\" stroke=\"black\" d=\"M188.01,-57.37C198.67,-55.48 209.04,-53.63 218.3,-51.99\"/>\n",
       "<polygon fill=\"black\" stroke=\"black\" points=\"218.65,-55.48 227.88,-50.28 217.42,-48.59 218.65,-55.48\"/>\n",
       "</g>\n",
       "<!-- 5409023104 -->\n",
       "<g id=\"node3\" class=\"node\">\n",
       "<title>5409023104</title>\n",
       "<polygon fill=\"none\" stroke=\"black\" points=\"634.88,-54.5 634.88,-90.5 815.62,-90.5 815.62,-54.5 634.88,-54.5\"/>\n",
       "<text text-anchor=\"middle\" x=\"644.75\" y=\"-67.7\" font-family=\"Times,serif\" font-size=\"14.00\"> </text>\n",
       "<polyline fill=\"none\" stroke=\"black\" points=\"654.62,-55 654.62,-90.5\"/>\n",
       "<text text-anchor=\"middle\" x=\"694.5\" y=\"-67.7\" font-family=\"Times,serif\" font-size=\"14.00\">data 3.6152</text>\n",
       "<polyline fill=\"none\" stroke=\"black\" points=\"734.38,-55 734.38,-90.5\"/>\n",
       "<text text-anchor=\"middle\" x=\"775\" y=\"-67.7\" font-family=\"Times,serif\" font-size=\"14.00\">grad 0.0000</text>\n",
       "</g>\n",
       "<!-- 5409023104&#45;&gt;5409027568* -->\n",
       "<g id=\"edge7\" class=\"edge\">\n",
       "<title>5409023104&#45;&gt;5409027568*</title>\n",
       "<path fill=\"none\" stroke=\"black\" d=\"M815.83,-88.21C825.46,-89.89 834.81,-91.53 843.27,-93.02\"/>\n",
       "<polygon fill=\"black\" stroke=\"black\" points=\"842.63,-96.46 853.09,-94.74 843.84,-89.56 842.63,-96.46\"/>\n",
       "</g>\n",
       "<!-- 5409023104+ -->\n",
       "<g id=\"node4\" class=\"node\">\n",
       "<title>5409023104+</title>\n",
       "<ellipse fill=\"none\" stroke=\"black\" cx=\"569.25\" cy=\"-72.5\" rx=\"27\" ry=\"18\"/>\n",
       "<text text-anchor=\"middle\" x=\"569.25\" y=\"-67.45\" font-family=\"Times,serif\" font-size=\"14.00\">+</text>\n",
       "</g>\n",
       "<!-- 5409023104+&#45;&gt;5409023104 -->\n",
       "<g id=\"edge1\" class=\"edge\">\n",
       "<title>5409023104+&#45;&gt;5409023104</title>\n",
       "<path fill=\"none\" stroke=\"black\" d=\"M596.72,-72.5C604.51,-72.5 613.53,-72.5 623.11,-72.5\"/>\n",
       "<polygon fill=\"black\" stroke=\"black\" points=\"623.05,-76 633.05,-72.5 623.05,-69 623.05,-76\"/>\n",
       "</g>\n",
       "<!-- 5410014848 -->\n",
       "<g id=\"node5\" class=\"node\">\n",
       "<title>5410014848</title>\n",
       "<polygon fill=\"none\" stroke=\"black\" points=\"318.75,-82.5 318.75,-118.5 506.25,-118.5 506.25,-82.5 318.75,-82.5\"/>\n",
       "<text text-anchor=\"middle\" x=\"329.75\" y=\"-95.7\" font-family=\"Times,serif\" font-size=\"14.00\">c</text>\n",
       "<polyline fill=\"none\" stroke=\"black\" points=\"340.75,-83 340.75,-118.5\"/>\n",
       "<text text-anchor=\"middle\" x=\"380.62\" y=\"-95.7\" font-family=\"Times,serif\" font-size=\"14.00\">data 9.9600</text>\n",
       "<polyline fill=\"none\" stroke=\"black\" points=\"420.5,-83 420.5,-118.5\"/>\n",
       "<text text-anchor=\"middle\" x=\"463.38\" y=\"-95.7\" font-family=\"Times,serif\" font-size=\"14.00\">grad &#45;2.0000</text>\n",
       "</g>\n",
       "<!-- 5410014848&#45;&gt;5409023104+ -->\n",
       "<g id=\"edge6\" class=\"edge\">\n",
       "<title>5410014848&#45;&gt;5409023104+</title>\n",
       "<path fill=\"none\" stroke=\"black\" d=\"M506.64,-83.65C515.4,-82.06 523.88,-80.53 531.59,-79.13\"/>\n",
       "<polygon fill=\"black\" stroke=\"black\" points=\"531.96,-82.62 541.18,-77.4 530.71,-75.73 531.96,-82.62\"/>\n",
       "</g>\n",
       "<!-- 5410023200 -->\n",
       "<g id=\"node6\" class=\"node\">\n",
       "<title>5410023200</title>\n",
       "<polygon fill=\"none\" stroke=\"black\" points=\"0,-0.5 0,-36.5 192.75,-36.5 192.75,-0.5 0,-0.5\"/>\n",
       "<text text-anchor=\"middle\" x=\"11.38\" y=\"-13.7\" font-family=\"Times,serif\" font-size=\"14.00\">b</text>\n",
       "<polyline fill=\"none\" stroke=\"black\" points=\"22.75,-1 22.75,-36.5\"/>\n",
       "<text text-anchor=\"middle\" x=\"64.88\" y=\"-13.7\" font-family=\"Times,serif\" font-size=\"14.00\">data &#45;3.0800</text>\n",
       "<polyline fill=\"none\" stroke=\"black\" points=\"107,-1 107,-36.5\"/>\n",
       "<text text-anchor=\"middle\" x=\"149.88\" y=\"-13.7\" font-family=\"Times,serif\" font-size=\"14.00\">grad &#45;4.0000</text>\n",
       "</g>\n",
       "<!-- 5410023200&#45;&gt;5409029008* -->\n",
       "<g id=\"edge4\" class=\"edge\">\n",
       "<title>5410023200&#45;&gt;5409029008*</title>\n",
       "<path fill=\"none\" stroke=\"black\" d=\"M193,-34.91C201.81,-36.42 210.32,-37.88 218.06,-39.2\"/>\n",
       "<polygon fill=\"black\" stroke=\"black\" points=\"217.21,-42.61 227.66,-40.85 218.4,-35.71 217.21,-42.61\"/>\n",
       "</g>\n",
       "<!-- 5409029008 -->\n",
       "<g id=\"node7\" class=\"node\">\n",
       "<title>5409029008</title>\n",
       "<polygon fill=\"none\" stroke=\"black\" points=\"319.88,-27.5 319.88,-63.5 505.12,-63.5 505.12,-27.5 319.88,-27.5\"/>\n",
       "<text text-anchor=\"middle\" x=\"329.75\" y=\"-40.7\" font-family=\"Times,serif\" font-size=\"14.00\"> </text>\n",
       "<polyline fill=\"none\" stroke=\"black\" points=\"339.62,-28 339.62,-63.5\"/>\n",
       "<text text-anchor=\"middle\" x=\"381.75\" y=\"-40.7\" font-family=\"Times,serif\" font-size=\"14.00\">data &#45;6.3448</text>\n",
       "<polyline fill=\"none\" stroke=\"black\" points=\"423.88,-28 423.88,-63.5\"/>\n",
       "<text text-anchor=\"middle\" x=\"464.5\" y=\"-40.7\" font-family=\"Times,serif\" font-size=\"14.00\">grad 0.0000</text>\n",
       "</g>\n",
       "<!-- 5409029008&#45;&gt;5409023104+ -->\n",
       "<g id=\"edge5\" class=\"edge\">\n",
       "<title>5409029008&#45;&gt;5409023104+</title>\n",
       "<path fill=\"none\" stroke=\"black\" d=\"M505.31,-61.52C514.49,-63.12 523.39,-64.67 531.47,-66.08\"/>\n",
       "<polygon fill=\"black\" stroke=\"black\" points=\"530.71,-69.5 541.16,-67.77 531.91,-62.61 530.71,-69.5\"/>\n",
       "</g>\n",
       "<!-- 5409029008*&#45;&gt;5409029008 -->\n",
       "<g id=\"edge2\" class=\"edge\">\n",
       "<title>5409029008*&#45;&gt;5409029008</title>\n",
       "<path fill=\"none\" stroke=\"black\" d=\"M283,-45.5C290.42,-45.5 298.97,-45.5 308.07,-45.5\"/>\n",
       "<polygon fill=\"black\" stroke=\"black\" points=\"307.88,-49 317.88,-45.5 307.88,-42 307.88,-49\"/>\n",
       "</g>\n",
       "<!-- 5409027568 -->\n",
       "<g id=\"node9\" class=\"node\">\n",
       "<title>5409027568</title>\n",
       "<polygon fill=\"none\" stroke=\"black\" points=\"944.25,-81.5 944.25,-117.5 1129.5,-117.5 1129.5,-81.5 944.25,-81.5\"/>\n",
       "<text text-anchor=\"middle\" x=\"954.12\" y=\"-94.7\" font-family=\"Times,serif\" font-size=\"14.00\"> </text>\n",
       "<polyline fill=\"none\" stroke=\"black\" points=\"964,-82 964,-117.5\"/>\n",
       "<text text-anchor=\"middle\" x=\"1006.12\" y=\"-94.7\" font-family=\"Times,serif\" font-size=\"14.00\">data &#45;7.3027</text>\n",
       "<polyline fill=\"none\" stroke=\"black\" points=\"1048.25,-82 1048.25,-117.5\"/>\n",
       "<text text-anchor=\"middle\" x=\"1088.88\" y=\"-94.7\" font-family=\"Times,serif\" font-size=\"14.00\">grad 0.0000</text>\n",
       "</g>\n",
       "<!-- 5409027568*&#45;&gt;5409027568 -->\n",
       "<g id=\"edge3\" class=\"edge\">\n",
       "<title>5409027568*&#45;&gt;5409027568</title>\n",
       "<path fill=\"none\" stroke=\"black\" d=\"M908.66,-99.5C915.7,-99.5 923.75,-99.5 932.3,-99.5\"/>\n",
       "<polygon fill=\"black\" stroke=\"black\" points=\"932.29,-103 942.29,-99.5 932.29,-96 932.29,-103\"/>\n",
       "</g>\n",
       "</g>\n",
       "</svg>\n"
      ],
      "text/plain": [
       "<graphviz.graphs.Digraph at 0x1426734a0>"
      ]
     },
     "execution_count": 126,
     "metadata": {},
     "output_type": "execute_result"
    }
   ],
   "source": [
    "draw_dot(L)"
   ]
  },
  {
   "cell_type": "code",
   "execution_count": 114,
   "id": "2fb1ff41-cce9-4375-ae18-d6d452e2ff0a",
   "metadata": {},
   "outputs": [],
   "source": [
    "a.grad = (-2.0 * -3.0)\n",
    "b.grad = (-2.0 * 2.0)"
   ]
  },
  {
   "cell_type": "code",
   "execution_count": null,
   "id": "260b4486-e13b-4ba5-8b70-87fe0d5afe1f",
   "metadata": {},
   "outputs": [],
   "source": [
    "dd / dc = 1.0\n",
    "dd / de = 1.0\n",
    "\n",
    "d = c + e\n",
    "\n",
    "# WE WANT\n",
    "dL / dc = (dL / dd) * (dd / dc)\n",
    "\n",
    "dL / de = -2 * 1\n",
    "\n",
    "# WE KNOW\n",
    "dL / dd = -2\n",
    "dd / dc = 1"
   ]
  },
  {
   "cell_type": "code",
   "execution_count": null,
   "id": "bcc9835a-8d8f-4044-bd62-78a76e04fffa",
   "metadata": {},
   "outputs": [],
   "source": [
    "L = d * f\n",
    "\n",
    "dL/dd =? f\n",
    "\n",
    "(f(x + h) - f(x))/h # Derivative formula\n",
    "\n",
    "((d + h)*f - d*f)/h\n",
    "\n",
    "(d*f + h*f - d*f) / h\n",
    "\n",
    "(h*f) / h\n",
    "\n",
    "f"
   ]
  },
  {
   "cell_type": "code",
   "execution_count": 125,
   "id": "3c01af5a-105e-40ff-8dae-43b12ddae648",
   "metadata": {},
   "outputs": [
    {
     "name": "stdout",
     "output_type": "stream",
     "text": [
      "-7.302704000000001\n"
     ]
    }
   ],
   "source": [
    "# dL / de = -2.0\n",
    "\n",
    "# dL / da = -2.0 * (de / da)\n",
    "\n",
    "# e = a * b\n",
    "\n",
    "# a.data += 0.01 * a.grad\n",
    "b.data += 0.01 * b.grad\n",
    "c.data += 0.01 * c.grad\n",
    "f.data += 0.01 * f.data\n",
    "\n",
    "e = a*b\n",
    "d = e + c\n",
    "L = d * f\n",
    "\n",
    "print(L.data)"
   ]
  },
  {
   "cell_type": "code",
   "execution_count": 122,
   "id": "8d1bfeaf-2119-4404-9b4b-854a21cd802d",
   "metadata": {},
   "outputs": [
    {
     "name": "stdout",
     "output_type": "stream",
     "text": [
      "6.000000000000227\n"
     ]
    }
   ],
   "source": [
    "def lol():\n",
    "    h = 0.001\n",
    "    \n",
    "    a = Value(2.0, label='a')\n",
    "    b = Value(-3.0, label='b')\n",
    "    c = Value(10.0, label='c')\n",
    "    e = a*b; e.label = 'e'\n",
    "    d = e + c; d.label = 'd'\n",
    "    f = Value(-2.0, label='f')\n",
    "    L = d * f; L.label= 'L'\n",
    "    L1 = L.data\n",
    "\n",
    "\n",
    "    a = Value(2.0, label='a')\n",
    "    a.data += h\n",
    "    b = Value(-3.0, label='b')\n",
    "    # b.data += h\n",
    "    c = Value(10.0, label='c')\n",
    "    # c.data += h\n",
    "    e = a*b; e.label = 'e'\n",
    "    # e.data += h\n",
    "    d = e + c; d.label = 'd'\n",
    "    f = Value(-2.0, label='f')\n",
    "    L = d * f; L.label= 'L'\n",
    "    L2 = L.data\n",
    "\n",
    "    print((L2 - L1)/h)\n",
    "\n",
    "lol()    "
   ]
  },
  {
   "cell_type": "code",
   "execution_count": null,
   "id": "01c28cb2-216f-480a-8fb6-dfd7433451f4",
   "metadata": {},
   "outputs": [],
   "source": []
  }
 ],
 "metadata": {
  "kernelspec": {
   "display_name": "Python 3 (ipykernel)",
   "language": "python",
   "name": "python3"
  },
  "language_info": {
   "codemirror_mode": {
    "name": "ipython",
    "version": 3
   },
   "file_extension": ".py",
   "mimetype": "text/x-python",
   "name": "python",
   "nbconvert_exporter": "python",
   "pygments_lexer": "ipython3",
   "version": "3.12.1"
  }
 },
 "nbformat": 4,
 "nbformat_minor": 5
}

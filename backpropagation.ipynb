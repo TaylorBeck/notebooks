{
 "cells": [
  {
   "cell_type": "code",
   "execution_count": 14,
   "id": "34961606-6345-43c0-9f51-60394a862462",
   "metadata": {},
   "outputs": [],
   "source": [
    "def f(x):\n",
    "    return 3*x**2 - 4*x + 5"
   ]
  },
  {
   "cell_type": "code",
   "execution_count": 15,
   "id": "8659a533-ce7b-44d5-adf5-97f46aca3c2b",
   "metadata": {},
   "outputs": [
    {
     "data": {
      "text/plain": [
       "20.0"
      ]
     },
     "execution_count": 15,
     "metadata": {},
     "output_type": "execute_result"
    }
   ],
   "source": [
    "f(3.0)"
   ]
  },
  {
   "cell_type": "code",
   "execution_count": 18,
   "id": "83ec0492-d64e-44f2-a5ca-894a0425f3fd",
   "metadata": {
    "scrolled": true
   },
   "outputs": [
    {
     "data": {
      "text/plain": [
       "array([100.    ,  91.6875,  83.75  ,  76.1875,  69.    ,  62.1875,\n",
       "        55.75  ,  49.6875,  44.    ,  38.6875,  33.75  ,  29.1875,\n",
       "        25.    ,  21.1875,  17.75  ,  14.6875,  12.    ,   9.6875,\n",
       "         7.75  ,   6.1875,   5.    ,   4.1875,   3.75  ,   3.6875,\n",
       "         4.    ,   4.6875,   5.75  ,   7.1875,   9.    ,  11.1875,\n",
       "        13.75  ,  16.6875,  20.    ,  23.6875,  27.75  ,  32.1875,\n",
       "        37.    ,  42.1875,  47.75  ,  53.6875])"
      ]
     },
     "execution_count": 18,
     "metadata": {},
     "output_type": "execute_result"
    }
   ],
   "source": [
    "xs = np.arange(-5, 5, 0.25)\n",
    "ys = f(xs)\n",
    "ys"
   ]
  },
  {
   "cell_type": "code",
   "execution_count": 22,
   "id": "51d84c86-8eb3-46b0-bfb0-0cb44a45f86a",
   "metadata": {},
   "outputs": [
    {
     "data": {
      "text/plain": [
       "2.999378523327323e-06"
      ]
     },
     "execution_count": 22,
     "metadata": {},
     "output_type": "execute_result"
    }
   ],
   "source": [
    "h = 0.000001\n",
    "x = 2/3\n",
    "# f(x + h)\n",
    "(f(x + h) - f(x))/h"
   ]
  },
  {
   "cell_type": "code",
   "execution_count": 24,
   "id": "7104b64b-dea4-4432-8b9d-6a7eb8db3c6f",
   "metadata": {},
   "outputs": [
    {
     "name": "stdout",
     "output_type": "stream",
     "text": [
      "4.0\n"
     ]
    }
   ],
   "source": [
    "a = 2.0\n",
    "b = -3.0\n",
    "c = 10\n",
    "d = a*b + c\n",
    "print(d)"
   ]
  },
  {
   "cell_type": "code",
   "execution_count": 28,
   "id": "781830bd-a9e3-4efe-8712-d63fe93baff9",
   "metadata": {
    "scrolled": true
   },
   "outputs": [
    {
     "name": "stdout",
     "output_type": "stream",
     "text": [
      "d1 4.0\n",
      "d2 4.0001\n",
      "slope 0.9999999999976694\n"
     ]
    }
   ],
   "source": [
    "h = 0.0001\n",
    "#inputs\n",
    "a = 2.0\n",
    "b = -3.0\n",
    "c = 10.0\n",
    "\n",
    "d1 = a*b + c\n",
    "c += h\n",
    "d2 = a*b + c\n",
    "\n",
    "print('d1', d1)\n",
    "print('d2', d2)\n",
    "print('slope', (d2 - d1)/h)"
   ]
  },
  {
   "cell_type": "code",
   "execution_count": 2,
   "id": "31202a71-2c0e-4dfb-948e-965a2d0a39ba",
   "metadata": {},
   "outputs": [
    {
     "data": {
      "text/plain": [
       "Value(data=4.0)"
      ]
     },
     "execution_count": 2,
     "metadata": {},
     "output_type": "execute_result"
    }
   ],
   "source": [
    "class Value:\n",
    "\n",
    "    def __init__(self, data, _children=(), _op='', label=''):\n",
    "        self.data = data\n",
    "        self.grad = 0.0\n",
    "        self._prev = set(_children)\n",
    "        self._op = _op\n",
    "        self.label = label\n",
    "\n",
    "    def __repr__(self):\n",
    "        return f\"Value(data={self.data})\"\n",
    "\n",
    "    def __add__(self, other):\n",
    "        out = Value(self.data + other.data, (self, other), '+')\n",
    "        return out\n",
    "\n",
    "    def __sub__(self, other):\n",
    "        out = Value(self.data - other.data, (self, other), '-')\n",
    "        return out\n",
    "\n",
    "    def __mul__(self, other):\n",
    "        out = Value(self.data * other.data, (self, other), '*')\n",
    "        return out\n",
    "\n",
    "    def __truediv__(self, other):\n",
    "        out = Value(self.data / other.data, (self, other), '/')\n",
    "        return out\n",
    "\n",
    "\n",
    "a = Value(2.0, label='a')\n",
    "b = Value(-3.0, label='b')\n",
    "c = Value(10.0, label='c')\n",
    "e = a*b; e.label = 'e'\n",
    "d = e + c; d.label = 'd'\n",
    "\n",
    "f = Value(-2.0, label='f')\n",
    "L = d * f; L.label= 'L'\n",
    "d"
   ]
  },
  {
   "cell_type": "code",
   "execution_count": 3,
   "id": "d1cfa230-96d0-494e-bcda-9a6d1e312053",
   "metadata": {},
   "outputs": [],
   "source": [
    "from graphviz import Digraph\n",
    "\n",
    "def trace(root):\n",
    "    # Builds a set of all nodes and edges in a graph\n",
    "    nodes, edges = set(), set()\n",
    "    def build(v):\n",
    "        if v not in nodes:\n",
    "            nodes.add(v)\n",
    "            for child in v._prev:\n",
    "                edges.add((child, v))\n",
    "                build(child)\n",
    "    build(root)\n",
    "    return nodes, edges\n",
    "\n",
    "def draw_dot(root):\n",
    "    dot = Digraph(format='svg', graph_attr={'rankdir': 'LR'}) # LR = Left to Right\n",
    "\n",
    "    nodes, edges = trace(root)\n",
    "    for n in nodes:\n",
    "        uid = str(id(n))\n",
    "        # For any value in the graph, create a rectangular ('record') node for it\n",
    "        dot.node(name = uid, label = \"{ %s | data %.4f | grad %.4f }\" % (n.label, n.data, n.grad), shape='record')\n",
    "        if n._op:\n",
    "            # If this value is a result of some operation, create an op node for it\n",
    "            dot.node(name = uid + n._op, label = n._op)\n",
    "            # and connect this node to it\n",
    "            dot.edge(uid + n._op, uid)\n",
    "\n",
    "    for n1, n2 in edges:\n",
    "        # Connect n1 to the op node of n2\n",
    "        dot.edge(str(id(n1)), str(id(n2)) + n2._op)\n",
    "\n",
    "    return dot"
   ]
  },
  {
   "cell_type": "code",
   "execution_count": 4,
   "id": "59a7797b-237f-46b3-8785-2131014329bf",
   "metadata": {},
   "outputs": [
    {
     "data": {
      "image/svg+xml": [
       "<?xml version=\"1.0\" encoding=\"UTF-8\" standalone=\"no\"?>\n",
       "<!DOCTYPE svg PUBLIC \"-//W3C//DTD SVG 1.1//EN\"\n",
       " \"http://www.w3.org/Graphics/SVG/1.1/DTD/svg11.dtd\">\n",
       "<!-- Generated by graphviz version 12.2.1 (20241206.2353)\n",
       " -->\n",
       "<!-- Pages: 1 -->\n",
       "<svg width=\"1140pt\" height=\"128pt\"\n",
       " viewBox=\"0.00 0.00 1139.75 128.00\" xmlns=\"http://www.w3.org/2000/svg\" xmlns:xlink=\"http://www.w3.org/1999/xlink\">\n",
       "<g id=\"graph0\" class=\"graph\" transform=\"scale(1 1) rotate(0) translate(4 124)\">\n",
       "<polygon fill=\"white\" stroke=\"none\" points=\"-4,4 -4,-124 1135.75,-124 1135.75,4 -4,4\"/>\n",
       "<!-- 4357130912 -->\n",
       "<g id=\"node1\" class=\"node\">\n",
       "<title>4357130912</title>\n",
       "<polygon fill=\"none\" stroke=\"black\" points=\"631.12,-27.5 631.12,-63.5 814.88,-63.5 814.88,-27.5 631.12,-27.5\"/>\n",
       "<text text-anchor=\"middle\" x=\"642.5\" y=\"-40.7\" font-family=\"Times,serif\" font-size=\"14.00\">d</text>\n",
       "<polyline fill=\"none\" stroke=\"black\" points=\"653.88,-28 653.88,-63.5\"/>\n",
       "<text text-anchor=\"middle\" x=\"693.75\" y=\"-40.7\" font-family=\"Times,serif\" font-size=\"14.00\">data 4.0000</text>\n",
       "<polyline fill=\"none\" stroke=\"black\" points=\"733.62,-28 733.62,-63.5\"/>\n",
       "<text text-anchor=\"middle\" x=\"774.25\" y=\"-40.7\" font-family=\"Times,serif\" font-size=\"14.00\">grad 0.0000</text>\n",
       "</g>\n",
       "<!-- 4357139264* -->\n",
       "<g id=\"node6\" class=\"node\">\n",
       "<title>4357139264*</title>\n",
       "<ellipse fill=\"none\" stroke=\"black\" cx=\"879\" cy=\"-72.5\" rx=\"27\" ry=\"18\"/>\n",
       "<text text-anchor=\"middle\" x=\"879\" y=\"-67.45\" font-family=\"Times,serif\" font-size=\"14.00\">*</text>\n",
       "</g>\n",
       "<!-- 4357130912&#45;&gt;4357139264* -->\n",
       "<g id=\"edge5\" class=\"edge\">\n",
       "<title>4357130912&#45;&gt;4357139264*</title>\n",
       "<path fill=\"none\" stroke=\"black\" d=\"M815.36,-61.52C824.5,-63.12 833.36,-64.67 841.4,-66.08\"/>\n",
       "<polygon fill=\"black\" stroke=\"black\" points=\"840.58,-69.49 851.04,-67.77 841.79,-62.6 840.58,-69.49\"/>\n",
       "</g>\n",
       "<!-- 4357130912+ -->\n",
       "<g id=\"node2\" class=\"node\">\n",
       "<title>4357130912+</title>\n",
       "<ellipse fill=\"none\" stroke=\"black\" cx=\"567\" cy=\"-45.5\" rx=\"27\" ry=\"18\"/>\n",
       "<text text-anchor=\"middle\" x=\"567\" y=\"-40.45\" font-family=\"Times,serif\" font-size=\"14.00\">+</text>\n",
       "</g>\n",
       "<!-- 4357130912+&#45;&gt;4357130912 -->\n",
       "<g id=\"edge1\" class=\"edge\">\n",
       "<title>4357130912+&#45;&gt;4357130912</title>\n",
       "<path fill=\"none\" stroke=\"black\" d=\"M594.47,-45.5C601.87,-45.5 610.38,-45.5 619.43,-45.5\"/>\n",
       "<polygon fill=\"black\" stroke=\"black\" points=\"619.17,-49 629.17,-45.5 619.17,-42 619.17,-49\"/>\n",
       "</g>\n",
       "<!-- 4357139120 -->\n",
       "<g id=\"node3\" class=\"node\">\n",
       "<title>4357139120</title>\n",
       "<polygon fill=\"none\" stroke=\"black\" points=\"0,-83.5 0,-119.5 188.25,-119.5 188.25,-83.5 0,-83.5\"/>\n",
       "<text text-anchor=\"middle\" x=\"11.38\" y=\"-96.7\" font-family=\"Times,serif\" font-size=\"14.00\">b</text>\n",
       "<polyline fill=\"none\" stroke=\"black\" points=\"22.75,-84 22.75,-119.5\"/>\n",
       "<text text-anchor=\"middle\" x=\"64.88\" y=\"-96.7\" font-family=\"Times,serif\" font-size=\"14.00\">data &#45;3.0000</text>\n",
       "<polyline fill=\"none\" stroke=\"black\" points=\"107,-84 107,-119.5\"/>\n",
       "<text text-anchor=\"middle\" x=\"147.62\" y=\"-96.7\" font-family=\"Times,serif\" font-size=\"14.00\">grad 0.0000</text>\n",
       "</g>\n",
       "<!-- 4357139312* -->\n",
       "<g id=\"node9\" class=\"node\">\n",
       "<title>4357139312*</title>\n",
       "<ellipse fill=\"none\" stroke=\"black\" cx=\"251.25\" cy=\"-73.5\" rx=\"27\" ry=\"18\"/>\n",
       "<text text-anchor=\"middle\" x=\"251.25\" y=\"-68.45\" font-family=\"Times,serif\" font-size=\"14.00\">*</text>\n",
       "</g>\n",
       "<!-- 4357139120&#45;&gt;4357139312* -->\n",
       "<g id=\"edge4\" class=\"edge\">\n",
       "<title>4357139120&#45;&gt;4357139312*</title>\n",
       "<path fill=\"none\" stroke=\"black\" d=\"M188.49,-84.65C197.36,-83.05 205.93,-81.5 213.73,-80.09\"/>\n",
       "<polygon fill=\"black\" stroke=\"black\" points=\"214.2,-83.56 223.42,-78.34 212.95,-76.68 214.2,-83.56\"/>\n",
       "</g>\n",
       "<!-- 4357130480 -->\n",
       "<g id=\"node4\" class=\"node\">\n",
       "<title>4357130480</title>\n",
       "<polygon fill=\"none\" stroke=\"black\" points=\"630,-82.5 630,-118.5 816,-118.5 816,-82.5 630,-82.5\"/>\n",
       "<text text-anchor=\"middle\" x=\"640.25\" y=\"-95.7\" font-family=\"Times,serif\" font-size=\"14.00\">f</text>\n",
       "<polyline fill=\"none\" stroke=\"black\" points=\"650.5,-83 650.5,-118.5\"/>\n",
       "<text text-anchor=\"middle\" x=\"692.62\" y=\"-95.7\" font-family=\"Times,serif\" font-size=\"14.00\">data &#45;2.0000</text>\n",
       "<polyline fill=\"none\" stroke=\"black\" points=\"734.75,-83 734.75,-118.5\"/>\n",
       "<text text-anchor=\"middle\" x=\"775.38\" y=\"-95.7\" font-family=\"Times,serif\" font-size=\"14.00\">grad 0.0000</text>\n",
       "</g>\n",
       "<!-- 4357130480&#45;&gt;4357139264* -->\n",
       "<g id=\"edge9\" class=\"edge\">\n",
       "<title>4357130480&#45;&gt;4357139264*</title>\n",
       "<path fill=\"none\" stroke=\"black\" d=\"M816.25,-83.73C825.1,-82.12 833.67,-80.56 841.46,-79.14\"/>\n",
       "<polygon fill=\"black\" stroke=\"black\" points=\"841.93,-82.62 851.15,-77.38 840.68,-75.73 841.93,-82.62\"/>\n",
       "</g>\n",
       "<!-- 4357139264 -->\n",
       "<g id=\"node5\" class=\"node\">\n",
       "<title>4357139264</title>\n",
       "<polygon fill=\"none\" stroke=\"black\" points=\"942,-54.5 942,-90.5 1131.75,-90.5 1131.75,-54.5 942,-54.5\"/>\n",
       "<text text-anchor=\"middle\" x=\"954.12\" y=\"-67.7\" font-family=\"Times,serif\" font-size=\"14.00\">L</text>\n",
       "<polyline fill=\"none\" stroke=\"black\" points=\"966.25,-55 966.25,-90.5\"/>\n",
       "<text text-anchor=\"middle\" x=\"1008.38\" y=\"-67.7\" font-family=\"Times,serif\" font-size=\"14.00\">data &#45;8.0000</text>\n",
       "<polyline fill=\"none\" stroke=\"black\" points=\"1050.5,-55 1050.5,-90.5\"/>\n",
       "<text text-anchor=\"middle\" x=\"1091.12\" y=\"-67.7\" font-family=\"Times,serif\" font-size=\"14.00\">grad 0.0000</text>\n",
       "</g>\n",
       "<!-- 4357139264*&#45;&gt;4357139264 -->\n",
       "<g id=\"edge2\" class=\"edge\">\n",
       "<title>4357139264*&#45;&gt;4357139264</title>\n",
       "<path fill=\"none\" stroke=\"black\" d=\"M906.44,-72.5C913.59,-72.5 921.78,-72.5 930.49,-72.5\"/>\n",
       "<polygon fill=\"black\" stroke=\"black\" points=\"930.26,-76 940.26,-72.5 930.26,-69 930.26,-76\"/>\n",
       "</g>\n",
       "<!-- 4357137248 -->\n",
       "<g id=\"node7\" class=\"node\">\n",
       "<title>4357137248</title>\n",
       "<polygon fill=\"none\" stroke=\"black\" points=\"2.62,-28.5 2.62,-64.5 185.62,-64.5 185.62,-28.5 2.62,-28.5\"/>\n",
       "<text text-anchor=\"middle\" x=\"13.62\" y=\"-41.7\" font-family=\"Times,serif\" font-size=\"14.00\">a</text>\n",
       "<polyline fill=\"none\" stroke=\"black\" points=\"24.62,-29 24.62,-64.5\"/>\n",
       "<text text-anchor=\"middle\" x=\"64.5\" y=\"-41.7\" font-family=\"Times,serif\" font-size=\"14.00\">data 2.0000</text>\n",
       "<polyline fill=\"none\" stroke=\"black\" points=\"104.38,-29 104.38,-64.5\"/>\n",
       "<text text-anchor=\"middle\" x=\"145\" y=\"-41.7\" font-family=\"Times,serif\" font-size=\"14.00\">grad 0.0000</text>\n",
       "</g>\n",
       "<!-- 4357137248&#45;&gt;4357139312* -->\n",
       "<g id=\"edge7\" class=\"edge\">\n",
       "<title>4357137248&#45;&gt;4357139312*</title>\n",
       "<path fill=\"none\" stroke=\"black\" d=\"M185.81,-62.28C195.45,-63.96 204.82,-65.59 213.29,-67.07\"/>\n",
       "<polygon fill=\"black\" stroke=\"black\" points=\"212.65,-70.51 223.1,-68.77 213.85,-63.61 212.65,-70.51\"/>\n",
       "</g>\n",
       "<!-- 4357139312 -->\n",
       "<g id=\"node8\" class=\"node\">\n",
       "<title>4357139312</title>\n",
       "<polygon fill=\"none\" stroke=\"black\" points=\"315.38,-55.5 315.38,-91.5 502.88,-91.5 502.88,-55.5 315.38,-55.5\"/>\n",
       "<text text-anchor=\"middle\" x=\"326.38\" y=\"-68.7\" font-family=\"Times,serif\" font-size=\"14.00\">e</text>\n",
       "<polyline fill=\"none\" stroke=\"black\" points=\"337.38,-56 337.38,-91.5\"/>\n",
       "<text text-anchor=\"middle\" x=\"379.5\" y=\"-68.7\" font-family=\"Times,serif\" font-size=\"14.00\">data &#45;6.0000</text>\n",
       "<polyline fill=\"none\" stroke=\"black\" points=\"421.62,-56 421.62,-91.5\"/>\n",
       "<text text-anchor=\"middle\" x=\"462.25\" y=\"-68.7\" font-family=\"Times,serif\" font-size=\"14.00\">grad 0.0000</text>\n",
       "</g>\n",
       "<!-- 4357139312&#45;&gt;4357130912+ -->\n",
       "<g id=\"edge8\" class=\"edge\">\n",
       "<title>4357139312&#45;&gt;4357130912+</title>\n",
       "<path fill=\"none\" stroke=\"black\" d=\"M503.05,-56.81C512.25,-55.16 521.16,-53.56 529.24,-52.1\"/>\n",
       "<polygon fill=\"black\" stroke=\"black\" points=\"529.71,-55.58 538.93,-50.36 528.47,-48.69 529.71,-55.58\"/>\n",
       "</g>\n",
       "<!-- 4357139312*&#45;&gt;4357139312 -->\n",
       "<g id=\"edge3\" class=\"edge\">\n",
       "<title>4357139312*&#45;&gt;4357139312</title>\n",
       "<path fill=\"none\" stroke=\"black\" d=\"M278.69,-73.5C286.1,-73.5 294.64,-73.5 303.71,-73.5\"/>\n",
       "<polygon fill=\"black\" stroke=\"black\" points=\"303.51,-77 313.51,-73.5 303.51,-70 303.51,-77\"/>\n",
       "</g>\n",
       "<!-- 4357138928 -->\n",
       "<g id=\"node10\" class=\"node\">\n",
       "<title>4357138928</title>\n",
       "<polygon fill=\"none\" stroke=\"black\" points=\"314.25,-0.5 314.25,-36.5 504,-36.5 504,-0.5 314.25,-0.5\"/>\n",
       "<text text-anchor=\"middle\" x=\"325.25\" y=\"-13.7\" font-family=\"Times,serif\" font-size=\"14.00\">c</text>\n",
       "<polyline fill=\"none\" stroke=\"black\" points=\"336.25,-1 336.25,-36.5\"/>\n",
       "<text text-anchor=\"middle\" x=\"379.5\" y=\"-13.7\" font-family=\"Times,serif\" font-size=\"14.00\">data 10.0000</text>\n",
       "<polyline fill=\"none\" stroke=\"black\" points=\"422.75,-1 422.75,-36.5\"/>\n",
       "<text text-anchor=\"middle\" x=\"463.38\" y=\"-13.7\" font-family=\"Times,serif\" font-size=\"14.00\">grad 0.0000</text>\n",
       "</g>\n",
       "<!-- 4357138928&#45;&gt;4357130912+ -->\n",
       "<g id=\"edge6\" class=\"edge\">\n",
       "<title>4357138928&#45;&gt;4357130912+</title>\n",
       "<path fill=\"none\" stroke=\"black\" d=\"M504.39,-34.83C513.16,-36.35 521.65,-37.82 529.37,-39.15\"/>\n",
       "<polygon fill=\"black\" stroke=\"black\" points=\"528.5,-42.56 538.95,-40.81 529.69,-35.66 528.5,-42.56\"/>\n",
       "</g>\n",
       "</g>\n",
       "</svg>\n"
      ],
      "text/plain": [
       "<graphviz.graphs.Digraph at 0x103b31f10>"
      ]
     },
     "execution_count": 4,
     "metadata": {},
     "output_type": "execute_result"
    }
   ],
   "source": [
    "draw_dot(L)"
   ]
  },
  {
   "cell_type": "code",
   "execution_count": 114,
   "id": "2fb1ff41-cce9-4375-ae18-d6d452e2ff0a",
   "metadata": {},
   "outputs": [],
   "source": [
    "a.grad = (-2.0 * -3.0)\n",
    "b.grad = (-2.0 * 2.0)"
   ]
  },
  {
   "cell_type": "code",
   "execution_count": null,
   "id": "260b4486-e13b-4ba5-8b70-87fe0d5afe1f",
   "metadata": {},
   "outputs": [],
   "source": [
    "dd / dc = 1.0\n",
    "dd / de = 1.0\n",
    "\n",
    "d = c + e\n",
    "\n",
    "# WE WANT\n",
    "dL / dc = (dL / dd) * (dd / dc)\n",
    "\n",
    "dL / de = -2 * 1\n",
    "\n",
    "# WE KNOW\n",
    "dL / dd = -2\n",
    "dd / dc = 1"
   ]
  },
  {
   "cell_type": "code",
   "execution_count": null,
   "id": "bcc9835a-8d8f-4044-bd62-78a76e04fffa",
   "metadata": {},
   "outputs": [],
   "source": [
    "L = d * f\n",
    "\n",
    "dL/dd =? f\n",
    "\n",
    "(f(x + h) - f(x))/h # Derivative formula\n",
    "\n",
    "((d + h)*f - d*f)/h\n",
    "\n",
    "(d*f + h*f - d*f) / h\n",
    "\n",
    "(h*f) / h\n",
    "\n",
    "f"
   ]
  },
  {
   "cell_type": "code",
   "execution_count": 125,
   "id": "3c01af5a-105e-40ff-8dae-43b12ddae648",
   "metadata": {},
   "outputs": [
    {
     "name": "stdout",
     "output_type": "stream",
     "text": [
      "-7.302704000000001\n"
     ]
    }
   ],
   "source": [
    "# dL / de = -2.0\n",
    "\n",
    "# dL / da = -2.0 * (de / da)\n",
    "\n",
    "# e = a * b\n",
    "\n",
    "# a.data += 0.01 * a.grad\n",
    "b.data += 0.01 * b.grad\n",
    "c.data += 0.01 * c.grad\n",
    "f.data += 0.01 * f.data\n",
    "\n",
    "e = a*b\n",
    "d = e + c\n",
    "L = d * f\n",
    "\n",
    "print(L.data)"
   ]
  },
  {
   "cell_type": "code",
   "execution_count": 122,
   "id": "8d1bfeaf-2119-4404-9b4b-854a21cd802d",
   "metadata": {},
   "outputs": [
    {
     "name": "stdout",
     "output_type": "stream",
     "text": [
      "6.000000000000227\n"
     ]
    }
   ],
   "source": [
    "def lol():\n",
    "    h = 0.001\n",
    "    \n",
    "    a = Value(2.0, label='a')\n",
    "    b = Value(-3.0, label='b')\n",
    "    c = Value(10.0, label='c')\n",
    "    e = a*b; e.label = 'e'\n",
    "    d = e + c; d.label = 'd'\n",
    "    f = Value(-2.0, label='f')\n",
    "    L = d * f; L.label= 'L'\n",
    "    L1 = L.data\n",
    "\n",
    "\n",
    "    a = Value(2.0, label='a')\n",
    "    a.data += h\n",
    "    b = Value(-3.0, label='b')\n",
    "    # b.data += h\n",
    "    c = Value(10.0, label='c')\n",
    "    # c.data += h\n",
    "    e = a*b; e.label = 'e'\n",
    "    # e.data += h\n",
    "    d = e + c; d.label = 'd'\n",
    "    f = Value(-2.0, label='f')\n",
    "    L = d * f; L.label= 'L'\n",
    "    L2 = L.data\n",
    "\n",
    "    print((L2 - L1)/h)\n",
    "\n",
    "lol()    "
   ]
  },
  {
   "cell_type": "code",
   "execution_count": null,
   "id": "01c28cb2-216f-480a-8fb6-dfd7433451f4",
   "metadata": {},
   "outputs": [],
   "source": []
  }
 ],
 "metadata": {
  "kernelspec": {
   "display_name": "Python 3 (ipykernel)",
   "language": "python",
   "name": "python3"
  },
  "language_info": {
   "codemirror_mode": {
    "name": "ipython",
    "version": 3
   },
   "file_extension": ".py",
   "mimetype": "text/x-python",
   "name": "python",
   "nbconvert_exporter": "python",
   "pygments_lexer": "ipython3",
   "version": "3.12.1"
  }
 },
 "nbformat": 4,
 "nbformat_minor": 5
}
